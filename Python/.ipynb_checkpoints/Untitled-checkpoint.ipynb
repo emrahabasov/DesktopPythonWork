{
 "cells": [
  {
   "cell_type": "code",
   "execution_count": 2,
   "id": "30e755e2-c13f-43c8-bd4c-1233211a2605",
   "metadata": {},
   "outputs": [],
   "source": [
    "a = 3"
   ]
  },
  {
   "cell_type": "code",
   "execution_count": null,
   "id": "91a7a19a-6833-4656-92db-040478183405",
   "metadata": {},
   "outputs": [],
   "source": []
  }
 ],
 "metadata": {
  "kernelspec": {
   "display_name": "Python 3 (ipykernel)",
   "language": "python",
   "name": "python3"
  },
  "language_info": {
   "codemirror_mode": {
    "name": "ipython",
    "version": 3
   },
   "file_extension": ".py",
   "mimetype": "text/x-python",
   "name": "python",
   "nbconvert_exporter": "python",
   "pygments_lexer": "ipython3",
   "version": "3.12.7"
  }
 },
 "nbformat": 4,
 "nbformat_minor": 5
}
